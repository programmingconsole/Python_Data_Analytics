{
  "nbformat": 4,
  "nbformat_minor": 0,
  "metadata": {
    "colab": {
      "provenance": [],
      "authorship_tag": "ABX9TyO3HVLx71+YMhvY5J+goDc5",
      "include_colab_link": true
    },
    "kernelspec": {
      "name": "python3",
      "display_name": "Python 3"
    },
    "language_info": {
      "name": "python"
    }
  },
  "cells": [
    {
      "cell_type": "markdown",
      "metadata": {
        "id": "view-in-github",
        "colab_type": "text"
      },
      "source": [
        "<a href=\"https://colab.research.google.com/github/programmingconsole/Python_Data_Analytics/blob/main/lamdaex.ipynb\" target=\"_parent\"><img src=\"https://colab.research.google.com/assets/colab-badge.svg\" alt=\"Open In Colab\"/></a>"
      ]
    },
    {
      "cell_type": "code",
      "execution_count": 17,
      "metadata": {
        "colab": {
          "base_uri": "https://localhost:8080/"
        },
        "id": "vGSyTJJQTp1J",
        "outputId": "eee2f529-9ab1-4bd0-8c6d-74d8535b31d9"
      },
      "outputs": [
        {
          "output_type": "stream",
          "name": "stdout",
          "text": [
            "[103000, 33400, 47344]\n"
          ]
        }
      ],
      "source": [
        "\n",
        "\n",
        "mul=lambda x: x*2\n",
        "mul(1)\n",
        "\n",
        "salary_amt=[100000,30000,45000]\n",
        "bones=[3000,3400,2344]\n",
        "total=[(lambda x,y:x+y)(salary,bones) for salary,bones in zip(salary_amt,bones)]\n",
        "\n",
        "print(total)"
      ]
    }
  ]
}