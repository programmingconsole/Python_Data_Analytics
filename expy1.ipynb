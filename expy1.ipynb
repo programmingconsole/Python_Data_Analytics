{
  "nbformat": 4,
  "nbformat_minor": 0,
  "metadata": {
    "colab": {
      "provenance": [],
      "authorship_tag": "ABX9TyOeYDEXgz3+izN2UnG+JJbi",
      "include_colab_link": true
    },
    "kernelspec": {
      "name": "python3",
      "display_name": "Python 3"
    },
    "language_info": {
      "name": "python"
    }
  },
  "cells": [
    {
      "cell_type": "markdown",
      "metadata": {
        "id": "view-in-github",
        "colab_type": "text"
      },
      "source": [
        "<a href=\"https://colab.research.google.com/github/programmingconsole/Python_Data_Analytics/blob/main/expy1.ipynb\" target=\"_parent\"><img src=\"https://colab.research.google.com/assets/colab-badge.svg\" alt=\"Open In Colab\"/></a>"
      ]
    },
    {
      "cell_type": "code",
      "execution_count": 4,
      "metadata": {
        "id": "YuEIH5caLRxa",
        "colab": {
          "base_uri": "https://localhost:8080/"
        },
        "outputId": "b77c0b89-4617-45c5-fd82-e7223d08f469"
      },
      "outputs": [
        {
          "output_type": "stream",
          "name": "stdout",
          "text": [
            "enter number5\n",
            "sum =25\n"
          ]
        }
      ],
      "source": [
        "a=int(input(\"enter number\"))\n",
        "SQ=a*a\n",
        "print(f'sum ={SQ}')"
      ]
    }
  ]
}