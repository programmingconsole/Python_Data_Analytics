{
  "nbformat": 4,
  "nbformat_minor": 0,
  "metadata": {
    "colab": {
      "provenance": [],
      "authorship_tag": "ABX9TyOU7q2sQMy21A5n72b2ey6C",
      "include_colab_link": true
    },
    "kernelspec": {
      "name": "python3",
      "display_name": "Python 3"
    },
    "language_info": {
      "name": "python"
    }
  },
  "cells": [
    {
      "cell_type": "markdown",
      "metadata": {
        "id": "view-in-github",
        "colab_type": "text"
      },
      "source": [
        "<a href=\"https://colab.research.google.com/github/programmingconsole/Python_Data_Analytics/blob/main/numexp.ipynb\" target=\"_parent\"><img src=\"https://colab.research.google.com/assets/colab-badge.svg\" alt=\"Open In Colab\"/></a>"
      ]
    },
    {
      "cell_type": "code",
      "execution_count": 33,
      "metadata": {
        "colab": {
          "base_uri": "https://localhost:8080/"
        },
        "id": "pgH2lPEEjzZe",
        "outputId": "c75ca49c-1237-4419-a590-ba7ef1c65084"
      },
      "outputs": [
        {
          "output_type": "stream",
          "name": "stdout",
          "text": [
            "[68, 12, 89, 28, 47, 13, 73, 18, 17, 22, 27, 83, 13, 31, 84, 32, 29, 64, 22, 22, 48, 12, 94, 100, 87, 66, 66, 66, 36, 88, 41, 17, 63, 72, 14, 79, 43, 37, 79, 16, 34, 90, 30, 21, 73, 75, 29, 96, 100, 53, 83, 20, 48, 97, 70, 31, 16, 64, 76, 71, 84, 74, 89, 33, 77, 45, 34, 98, 58, 44, 43, 48, 14, 55, 40, 94, 94, 85, 85, 87, 90, 46, 12, 18, 43, 15, 37, 66, 71, 16, 63, 36, 36, 45, 12, 13, 58, 32, 76, 92]\n",
            "avg= Counter({12: 4, 66: 4, 13: 3, 22: 3, 48: 3, 94: 3, 36: 3, 43: 3, 16: 3, 89: 2, 73: 2, 18: 2, 17: 2, 83: 2, 31: 2, 84: 2, 32: 2, 29: 2, 64: 2, 100: 2, 87: 2, 63: 2, 14: 2, 79: 2, 37: 2, 34: 2, 90: 2, 76: 2, 71: 2, 45: 2, 58: 2, 85: 2, 68: 1, 28: 1, 47: 1, 27: 1, 88: 1, 41: 1, 72: 1, 30: 1, 21: 1, 75: 1, 96: 1, 53: 1, 20: 1, 97: 1, 70: 1, 74: 1, 33: 1, 77: 1, 98: 1, 44: 1, 55: 1, 40: 1, 46: 1, 15: 1, 92: 1})\n",
            "Mean= 52.53\n",
            "[34, 34]\n"
          ]
        }
      ],
      "source": [
        "import random\n",
        "import statistics\n",
        "ran=[random.randint(10,100) for i in range(100)]\n",
        "\n",
        "print(ran)\n",
        "\n",
        "mea=statistics.mean(ran)\n",
        "\n",
        "avg=statistics.Counter(ran)\n",
        "print(\"avg=\",avg)\n",
        "print(\"Mean=\",mea)\n",
        "\n",
        "fil=[ i for i in ran if i ==34 ]\n",
        "\n",
        "print(fil)"
      ]
    },
    {
      "cell_type": "code",
      "source": [
        "import numpy as np\n",
        "m=np.median(ran)\n",
        "print(m)\n",
        "\n",
        "\n",
        "basic=np.array([30000,45000,35000])\n",
        "\n",
        "insentive=np.array([3000,4000,5000])\n",
        "\n",
        "total_salary=basic+insentive\n",
        "\n",
        "print (total_salary)\n",
        "\n",
        "print(\"mean of salary is =\",np.mean(total_salary))"
      ],
      "metadata": {
        "colab": {
          "base_uri": "https://localhost:8080/"
        },
        "id": "o8pq-p-hu_tx",
        "outputId": "8b6ff58d-2828-4d11-aa6b-33e9522190eb"
      },
      "execution_count": 46,
      "outputs": [
        {
          "output_type": "stream",
          "name": "stdout",
          "text": [
            "48.0\n",
            "[33000 49000 40000]\n",
            "mean of salary is = 40666.666666666664\n"
          ]
        }
      ]
    },
    {
      "cell_type": "code",
      "source": [],
      "metadata": {
        "id": "NzXtam55DcIv"
      },
      "execution_count": null,
      "outputs": []
    }
  ]
}