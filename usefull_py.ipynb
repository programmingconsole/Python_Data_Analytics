{
  "nbformat": 4,
  "nbformat_minor": 0,
  "metadata": {
    "colab": {
      "provenance": [],
      "authorship_tag": "ABX9TyMjg6yARnbRPyxfG+dQ2/jZ",
      "include_colab_link": true
    },
    "kernelspec": {
      "name": "python3",
      "display_name": "Python 3"
    },
    "language_info": {
      "name": "python"
    }
  },
  "cells": [
    {
      "cell_type": "markdown",
      "metadata": {
        "id": "view-in-github",
        "colab_type": "text"
      },
      "source": [
        "<a href=\"https://colab.research.google.com/github/programmingconsole/Python_Data_Analytics/blob/main/usefull_py.ipynb\" target=\"_parent\"><img src=\"https://colab.research.google.com/assets/colab-badge.svg\" alt=\"Open In Colab\"/></a>"
      ]
    },
    {
      "cell_type": "code",
      "execution_count": 3,
      "metadata": {
        "colab": {
          "base_uri": "https://localhost:8080/"
        },
        "id": "iHdlAvfSslTn",
        "outputId": "3a4b4869-59f0-433e-8c19-3aa2d4784d01"
      },
      "outputs": [
        {
          "output_type": "stream",
          "name": "stdout",
          "text": [
            "Enter the Place : kozhikode\n",
            "Basic details :  Kozhikode, Kerala, 673001, India\n",
            "Address: Kozhikode, Kerala, 673001, India\n",
            "Latitude: 11.2450558\n",
            "Longitude: 75.7754716\n"
          ]
        }
      ],
      "source": [
        "from geopy.geocoders import Nominatim\n",
        "\n",
        "# Initialize geocoder\n",
        "geolocator = Nominatim(user_agent=\"programminconsole@gmail.com\")\n",
        "\n",
        "# Enter a location\n",
        "\n",
        "Place=input(\"Enter the Place : \")\n",
        "location = geolocator.geocode(Place)\n",
        "\n",
        "# Print results\n",
        "\n",
        "print(\"Basic details : \",location)\n",
        "if location:\n",
        "    print(\"Address:\", location.address)\n",
        "    print(\"Latitude:\", location.latitude)\n",
        "    print(\"Longitude:\", location.longitude)\n",
        "\n",
        "else:\n",
        "    print(\"Location not found.\")\n"
      ]
    },
    {
      "cell_type": "code",
      "source": [
        "import requests\n",
        "import pandas as pd\n",
        "import matplotlib.pyplot as plt\n",
        "\n",
        "API_KEY = \"5b5c58d6a98c3bc38280180344c8a4d6\"\n",
        "city = input(\"Enter the city name: \")\n",
        "url = f\"http://api.openweathermap.org/data/2.5/weather?q={city}&appid={API_KEY}&units=metric\"\n",
        "\n",
        "response = requests.get(url)\n",
        "data = response.json()\n",
        "print(data)\n",
        "# Extracting relevant information\n",
        "weather = {\n",
        "    \"City\": city,\n",
        "    \"Temperature (°C)\": data[\"main\"][\"temp\"],\n",
        "    \"Humidity (%)\": data[\"main\"][\"humidity\"],\n",
        "    \"Pressure (hPa)\": data[\"main\"][\"pressure\"],\n",
        "    \"Weather\": data[\"weather\"][0][\"description\"]\n",
        "}\n",
        "\n",
        "# Show weather data\n",
        "print(weather)\n"
      ],
      "metadata": {
        "colab": {
          "base_uri": "https://localhost:8080/",
          "height": 245
        },
        "id": "_ivzypQCs9CC",
        "outputId": "5ad4824b-7ed8-40bb-d4ea-4e663c2c8886"
      },
      "execution_count": 11,
      "outputs": [
        {
          "output_type": "stream",
          "name": "stdout",
          "text": [
            "Enter the city name: kozhikode\n",
            "{'cod': 401, 'message': 'Invalid API key. Please see https://openweathermap.org/faq#error401 for more info.'}\n"
          ]
        },
        {
          "output_type": "error",
          "ename": "KeyError",
          "evalue": "'main'",
          "traceback": [
            "\u001b[0;31m---------------------------------------------------------------------------\u001b[0m",
            "\u001b[0;31mKeyError\u001b[0m                                  Traceback (most recent call last)",
            "\u001b[0;32m<ipython-input-11-c930f080b872>\u001b[0m in \u001b[0;36m<cell line: 0>\u001b[0;34m()\u001b[0m\n\u001b[1;32m     13\u001b[0m weather = {\n\u001b[1;32m     14\u001b[0m     \u001b[0;34m\"City\"\u001b[0m\u001b[0;34m:\u001b[0m \u001b[0mcity\u001b[0m\u001b[0;34m,\u001b[0m\u001b[0;34m\u001b[0m\u001b[0;34m\u001b[0m\u001b[0m\n\u001b[0;32m---> 15\u001b[0;31m     \u001b[0;34m\"Temperature (°C)\"\u001b[0m\u001b[0;34m:\u001b[0m \u001b[0mdata\u001b[0m\u001b[0;34m[\u001b[0m\u001b[0;34m\"main\"\u001b[0m\u001b[0;34m]\u001b[0m\u001b[0;34m[\u001b[0m\u001b[0;34m\"temp\"\u001b[0m\u001b[0;34m]\u001b[0m\u001b[0;34m,\u001b[0m\u001b[0;34m\u001b[0m\u001b[0;34m\u001b[0m\u001b[0m\n\u001b[0m\u001b[1;32m     16\u001b[0m     \u001b[0;34m\"Humidity (%)\"\u001b[0m\u001b[0;34m:\u001b[0m \u001b[0mdata\u001b[0m\u001b[0;34m[\u001b[0m\u001b[0;34m\"main\"\u001b[0m\u001b[0;34m]\u001b[0m\u001b[0;34m[\u001b[0m\u001b[0;34m\"humidity\"\u001b[0m\u001b[0;34m]\u001b[0m\u001b[0;34m,\u001b[0m\u001b[0;34m\u001b[0m\u001b[0;34m\u001b[0m\u001b[0m\n\u001b[1;32m     17\u001b[0m     \u001b[0;34m\"Pressure (hPa)\"\u001b[0m\u001b[0;34m:\u001b[0m \u001b[0mdata\u001b[0m\u001b[0;34m[\u001b[0m\u001b[0;34m\"main\"\u001b[0m\u001b[0;34m]\u001b[0m\u001b[0;34m[\u001b[0m\u001b[0;34m\"pressure\"\u001b[0m\u001b[0;34m]\u001b[0m\u001b[0;34m,\u001b[0m\u001b[0;34m\u001b[0m\u001b[0;34m\u001b[0m\u001b[0m\n",
            "\u001b[0;31mKeyError\u001b[0m: 'main'"
          ]
        }
      ]
    }
  ]
}