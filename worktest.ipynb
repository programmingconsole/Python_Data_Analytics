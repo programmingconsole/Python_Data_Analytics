{
  "nbformat": 4,
  "nbformat_minor": 0,
  "metadata": {
    "colab": {
      "provenance": [],
      "authorship_tag": "ABX9TyNBzmVX8YDIaLeKTzZToRRw",
      "include_colab_link": true
    },
    "kernelspec": {
      "name": "python3",
      "display_name": "Python 3"
    },
    "language_info": {
      "name": "python"
    }
  },
  "cells": [
    {
      "cell_type": "markdown",
      "metadata": {
        "id": "view-in-github",
        "colab_type": "text"
      },
      "source": [
        "<a href=\"https://colab.research.google.com/github/programmingconsole/Python_Data_Analytics/blob/main/worktest.ipynb\" target=\"_parent\"><img src=\"https://colab.research.google.com/assets/colab-badge.svg\" alt=\"Open In Colab\"/></a>"
      ]
    },
    {
      "cell_type": "code",
      "execution_count": 2,
      "metadata": {
        "colab": {
          "base_uri": "https://localhost:8080/"
        },
        "id": "cnMDXCKYG6ks",
        "outputId": "a5b231c1-f56d-439f-b5e2-ca54d7a5a886"
      },
      "outputs": [
        {
          "output_type": "stream",
          "name": "stdout",
          "text": [
            "[2, 3, 4, 5, 6, 7]\n"
          ]
        }
      ],
      "source": [
        "li=[1,2,3,4,5,6]\n",
        "\n",
        "def lical(num):\n",
        "  num=num+1\n",
        "  return num\n",
        "\n",
        "result=map(lical,li)\n",
        "\n",
        "print(list(result))"
      ]
    },
    {
      "cell_type": "code",
      "source": [
        "\n",
        "value=map(lambda x:x+1,li)\n",
        "print(list(value))"
      ],
      "metadata": {
        "colab": {
          "base_uri": "https://localhost:8080/"
        },
        "id": "NZT89Y86KbE2",
        "outputId": "ada59154-1bc4-4a63-c2d2-bf8f464631b9"
      },
      "execution_count": 24,
      "outputs": [
        {
          "output_type": "stream",
          "name": "stdout",
          "text": [
            "[2, 3, 4, 5, 6, 7]\n"
          ]
        }
      ]
    },
    {
      "cell_type": "code",
      "source": [
        "person = {\n",
        "    \"name\": \"Alice\",\n",
        "    \"age\": 30,\n",
        "    \"city\": \"New York\"\n",
        "}\n",
        "for m,n in person.items():\n",
        "  print(m,n)"
      ],
      "metadata": {
        "colab": {
          "base_uri": "https://localhost:8080/"
        },
        "id": "73twai3iYm2a",
        "outputId": "4de69cfa-4dbf-4605-f9fd-7981866a93cf"
      },
      "execution_count": 40,
      "outputs": [
        {
          "output_type": "stream",
          "name": "stdout",
          "text": [
            "name ['Alice', 'dan']\n",
            "age 30\n",
            "city New York\n"
          ]
        }
      ]
    },
    {
      "cell_type": "code",
      "source": [
        "dict={nme:\"value\" for nme in range(10)}\n",
        "print(dict)"
      ],
      "metadata": {
        "colab": {
          "base_uri": "https://localhost:8080/"
        },
        "id": "TaW_ZGGpKmqM",
        "outputId": "f791f955-2a97-4594-a1a4-4c6ba6cc72f4"
      },
      "execution_count": 25,
      "outputs": [
        {
          "output_type": "stream",
          "name": "stdout",
          "text": [
            "{0: 'value', 1: 'value', 2: 'value', 3: 'value', 4: 'value', 5: 'value', 6: 'value', 7: 'value', 8: 'value', 9: 'value'}\n"
          ]
        }
      ]
    },
    {
      "cell_type": "code",
      "source": [
        "people = {\n",
        "    \"alice\": {\n",
        "        \"age\": 30,\n",
        "        \"city\": \"New York\"\n",
        "    },\n",
        "    \"bob\": {\n",
        "        \"age\": 25,\n",
        "        \"city\": \"London\"\n",
        "    },\n",
        "    \"charlie\": {\n",
        "        \"age\": 35,\n",
        "        \"city\": \"Delhi\"\n",
        "    }\n",
        "}\n",
        "for m,n in people.items():\n",
        "  for i,j in  n.items():\n",
        "    print(f\"Name is {m} and Age = {i},City={j}\")\n"
      ],
      "metadata": {
        "colab": {
          "base_uri": "https://localhost:8080/"
        },
        "id": "9vGhVmA-br0o",
        "outputId": "ab337d69-1e87-4c37-e32a-a4b6e4fe3d99"
      },
      "execution_count": 135,
      "outputs": [
        {
          "output_type": "stream",
          "name": "stdout",
          "text": [
            "Name is alice and Age = age,City=30\n",
            "Name is alice and Age = city,City=New York\n",
            "Name is bob and Age = age,City=25\n",
            "Name is bob and Age = city,City=London\n",
            "Name is charlie and Age = age,City=35\n",
            "Name is charlie and Age = city,City=Delhi\n"
          ]
        }
      ]
    },
    {
      "cell_type": "code",
      "source": [
        "\n",
        "for name, info in people.items():\n",
        "    print(f\"Name is {name}, Age = {info['age']}, City = {info['city']}\")"
      ],
      "metadata": {
        "colab": {
          "base_uri": "https://localhost:8080/"
        },
        "id": "e3dT74Ksq3rm",
        "outputId": "ff1665a0-544b-4e6e-a4f8-00f51dae172e"
      },
      "execution_count": 138,
      "outputs": [
        {
          "output_type": "stream",
          "name": "stdout",
          "text": [
            "Name is alice, Age = 30, City = New York\n",
            "Name is bob, Age = 25, City = London\n",
            "Name is charlie, Age = 35, City = Delhi\n"
          ]
        }
      ]
    },
    {
      "cell_type": "code",
      "source": [
        "print(name)\n",
        "\n",
        "print (info)"
      ],
      "metadata": {
        "colab": {
          "base_uri": "https://localhost:8080/"
        },
        "id": "hjJmefsBruXq",
        "outputId": "58ff3077-8414-4729-c862-402ea11492e7"
      },
      "execution_count": 140,
      "outputs": [
        {
          "output_type": "stream",
          "name": "stdout",
          "text": [
            "charlie\n",
            "{'age': 35, 'city': 'Delhi'}\n"
          ]
        }
      ]
    },
    {
      "cell_type": "code",
      "source": [
        "for m in people.keys():\n",
        "  print(m)\n",
        ""
      ],
      "metadata": {
        "colab": {
          "base_uri": "https://localhost:8080/"
        },
        "id": "pBTR92himKX5",
        "outputId": "65f0cf2d-5a8f-441d-c766-7156871d8ecb"
      },
      "execution_count": 104,
      "outputs": [
        {
          "output_type": "stream",
          "name": "stdout",
          "text": [
            "alice\n",
            "bob\n",
            "charlie\n"
          ]
        }
      ]
    },
    {
      "cell_type": "code",
      "source": [
        "for v in people.values():\n",
        "  print(v[\"city\"])\n",
        ""
      ],
      "metadata": {
        "colab": {
          "base_uri": "https://localhost:8080/"
        },
        "id": "0tX_tg8hhsNl",
        "outputId": "b574085d-eb5f-4d1c-913f-8b029597a32c"
      },
      "execution_count": 147,
      "outputs": [
        {
          "output_type": "stream",
          "name": "stdout",
          "text": [
            "New York\n",
            "London\n",
            "Delhi\n"
          ]
        }
      ]
    },
    {
      "cell_type": "code",
      "source": [
        "for ii in people.items():\n",
        "  print(ii)"
      ],
      "metadata": {
        "colab": {
          "base_uri": "https://localhost:8080/"
        },
        "id": "ICUw4pbamvZh",
        "outputId": "6f856cf4-cbee-4c66-dfee-fbbb643012f6"
      },
      "execution_count": 146,
      "outputs": [
        {
          "output_type": "stream",
          "name": "stdout",
          "text": [
            "('alice', {'age': 30, 'city': 'New York'})\n",
            "('bob', {'age': 25, 'city': 'London'})\n",
            "('charlie', {'age': 35, 'city': 'Delhi'})\n"
          ]
        }
      ]
    },
    {
      "cell_type": "code",
      "source": [
        "for t in people.keys():\n",
        "  print(t)"
      ],
      "metadata": {
        "colab": {
          "base_uri": "https://localhost:8080/"
        },
        "id": "L-X2Glscm5TI",
        "outputId": "cee12f36-6a70-44ae-c5e2-73e152bfcf9e"
      },
      "execution_count": 120,
      "outputs": [
        {
          "output_type": "stream",
          "name": "stdout",
          "text": [
            "alice\n",
            "bob\n",
            "charlie\n"
          ]
        }
      ]
    },
    {
      "cell_type": "code",
      "source": [
        "print(people['alice'])\n",
        "\n",
        "print(t.items())\n",
        "print(t.values())"
      ],
      "metadata": {
        "colab": {
          "base_uri": "https://localhost:8080/"
        },
        "id": "_l0dH-wcoDIp",
        "outputId": "ea25246e-2068-48a4-cb02-baf367515db6"
      },
      "execution_count": 126,
      "outputs": [
        {
          "output_type": "stream",
          "name": "stdout",
          "text": [
            "{'age': 30, 'city': 'New York'}\n",
            "dict_items([('age', 35), ('city', 'Delhi')])\n",
            "dict_values([35, 'Delhi'])\n"
          ]
        }
      ]
    }
  ]
}