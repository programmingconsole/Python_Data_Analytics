{
  "nbformat": 4,
  "nbformat_minor": 0,
  "metadata": {
    "colab": {
      "provenance": [],
      "authorship_tag": "ABX9TyP/QxTSGMaWMFnoMmsoEuPV",
      "include_colab_link": true
    },
    "kernelspec": {
      "name": "python3",
      "display_name": "Python 3"
    },
    "language_info": {
      "name": "python"
    }
  },
  "cells": [
    {
      "cell_type": "markdown",
      "metadata": {
        "id": "view-in-github",
        "colab_type": "text"
      },
      "source": [
        "<a href=\"https://colab.research.google.com/github/programmingconsole/Python_Data_Analytics/blob/main/All_in_one.ipynb\" target=\"_parent\"><img src=\"https://colab.research.google.com/assets/colab-badge.svg\" alt=\"Open In Colab\"/></a>"
      ]
    },
    {
      "cell_type": "code",
      "execution_count": 4,
      "metadata": {
        "colab": {
          "base_uri": "https://localhost:8080/"
        },
        "id": "Qt1S9gguGvGD",
        "outputId": "26a3a2dc-f332-418e-863d-1296f97a4775"
      },
      "outputs": [
        {
          "output_type": "stream",
          "name": "stdout",
          "text": [
            "32\n",
            "-12\n",
            "220\n",
            "0.45454545454545453\n",
            "10\n",
            "sum=32,sub=-12\n"
          ]
        }
      ],
      "source": [
        "#basic arithamatic operation variable alredy declared and not input\n",
        "\n",
        "a=10\n",
        "b=22\n",
        "sum=a+b\n",
        "sub=a-b\n",
        "multi=a*b\n",
        "div=a/b\n",
        "module=a%b\n",
        "\n",
        "print(sum)\n",
        "print(sub)\n",
        "print(multi)\n",
        "print(div)\n",
        "print(module)\n",
        "\n",
        "print(f\"sum={sum},sub={sub}\")"
      ]
    },
    {
      "cell_type": "code",
      "source": [
        "#Basic arithabatic operation with input value\n",
        "\n",
        "c=int(input('Enter the first Value'))\n",
        "b=int(input('Enter the secont Value'))\n",
        "\n",
        "sum=(c+b)\n",
        "sub=(c-b)\n",
        "multi=(c*b)\n",
        "div=(c/b)\n",
        "module=(c%b)\n",
        "\n",
        "print(f\"sum={sum},sub={sub},multi={multi},div={div},module={module}\")"
      ],
      "metadata": {
        "colab": {
          "base_uri": "https://localhost:8080/"
        },
        "id": "bAoGqmcjHe0g",
        "outputId": "34663bef-ac4d-4f18-9eb0-7bbba5af363e"
      },
      "execution_count": 5,
      "outputs": [
        {
          "output_type": "stream",
          "name": "stdout",
          "text": [
            "Enter the first Value30\n",
            "Enter the secont Value40\n",
            "sum=70,sub=-10,multi=1200,div=0.75,module=30\n"
          ]
        }
      ]
    },
    {
      "cell_type": "code",
      "source": [
        "#List\n",
        "\n",
        "data=['name',1,25]\n",
        "print(data)\n",
        "\n",
        "loopdata=[i for i in range(10)] #normal number\n",
        "\n",
        "print(loopdata)\n",
        "\n",
        "evloop=[j for j in range(10) if j%2==0] #even number\n",
        "print(evloop)\n",
        "\n",
        "odloop=[k for k in range(10) if k%2!=0] #odd number\n",
        "print(odloop)\n",
        "\n",
        "ls=[m for m in range(0,50,2)] #multipy\n",
        "\n",
        "print('is list',ls)\n",
        "\n",
        "for mm in ls:\n",
        "  print('is loop ffrom for',mm)"
      ],
      "metadata": {
        "colab": {
          "base_uri": "https://localhost:8080/"
        },
        "id": "j6zrdU7IIe02",
        "outputId": "f45bf195-9941-476b-8ab0-051cfa898153"
      },
      "execution_count": 1,
      "outputs": [
        {
          "output_type": "stream",
          "name": "stdout",
          "text": [
            "['name', 1, 25]\n",
            "[0, 1, 2, 3, 4, 5, 6, 7, 8, 9]\n",
            "[0, 2, 4, 6, 8]\n",
            "[1, 3, 5, 7, 9]\n",
            "is list [0, 2, 4, 6, 8, 10, 12, 14, 16, 18, 20, 22, 24, 26, 28, 30, 32, 34, 36, 38, 40, 42, 44, 46, 48]\n",
            "is loop ffrom for 0\n",
            "is loop ffrom for 2\n",
            "is loop ffrom for 4\n",
            "is loop ffrom for 6\n",
            "is loop ffrom for 8\n",
            "is loop ffrom for 10\n",
            "is loop ffrom for 12\n",
            "is loop ffrom for 14\n",
            "is loop ffrom for 16\n",
            "is loop ffrom for 18\n",
            "is loop ffrom for 20\n",
            "is loop ffrom for 22\n",
            "is loop ffrom for 24\n",
            "is loop ffrom for 26\n",
            "is loop ffrom for 28\n",
            "is loop ffrom for 30\n",
            "is loop ffrom for 32\n",
            "is loop ffrom for 34\n",
            "is loop ffrom for 36\n",
            "is loop ffrom for 38\n",
            "is loop ffrom for 40\n",
            "is loop ffrom for 42\n",
            "is loop ffrom for 44\n",
            "is loop ffrom for 46\n",
            "is loop ffrom for 48\n"
          ]
        }
      ]
    },
    {
      "cell_type": "code",
      "source": [
        "from os import name\n",
        "#Dictionary\n",
        "\n",
        "dict={'name':'Shahal','age':25,'department':'cs'}\n",
        "\n",
        "print(dict['name'])\n",
        "\n",
        "print(dict.items())\n",
        "\n",
        "print(dict.keys())\n",
        "\n",
        "print(dict.values())\n",
        "\n",
        "print(dict.get('age'))\n",
        "\n",
        "listd=[dict.values()]\n",
        "print(listd)\n",
        "\n",
        "for i in dict:\n",
        "  print(i)\n",
        "  print(f\"{i} is {dict[i]}\")\n",
        "\n",
        "print('multi dict started')\n",
        "\n",
        "multidicts={'name':['shalu','sha','abc'],'age':[23,25,26]}\n",
        "\n",
        "print(multidicts['name'][1])\n",
        "\n",
        "for i,j in zip(multidicts['name'],multidicts['age']):\n",
        "  print(f\"Multidict values  : Name is {i} and Age is {j}\")\n"
      ],
      "metadata": {
        "colab": {
          "base_uri": "https://localhost:8080/"
        },
        "id": "mctKsQgIkntR",
        "outputId": "c88e5ce6-0ecb-48fa-eba2-c6d418af070a"
      },
      "execution_count": 37,
      "outputs": [
        {
          "output_type": "stream",
          "name": "stdout",
          "text": [
            "Shahal\n",
            "dict_items([('name', 'Shahal'), ('age', 25), ('department', 'cs')])\n",
            "dict_keys(['name', 'age', 'department'])\n",
            "dict_values(['Shahal', 25, 'cs'])\n",
            "25\n",
            "[dict_values(['Shahal', 25, 'cs'])]\n",
            "name\n",
            "name is Shahal\n",
            "age\n",
            "age is 25\n",
            "department\n",
            "department is cs\n",
            "multi dict started\n",
            "sha\n",
            "Multidict values  : Name is shalu and Age is 23\n",
            "Multidict values  : Name is sha and Age is 25\n",
            "Multidict values  : Name is abc and Age is 26\n"
          ]
        }
      ]
    },
    {
      "cell_type": "code",
      "source": [
        "#Controlers for and if\n",
        "\n",
        "for i in range(10):\n",
        "  if i==0:\n",
        "    print('zero')\n",
        "  elif (i%2==0):\n",
        "    print(i,'is even')\n",
        "  else:\n",
        "    print(i,'is odd')\n",
        "\n",
        "\n"
      ],
      "metadata": {
        "colab": {
          "base_uri": "https://localhost:8080/"
        },
        "id": "E7xu8VhQoK6V",
        "outputId": "0a42cbf7-186c-4d82-f2c7-64c183fc09fb"
      },
      "execution_count": 40,
      "outputs": [
        {
          "output_type": "stream",
          "name": "stdout",
          "text": [
            "zero\n",
            "1 is odd\n",
            "2 is even\n",
            "3 is odd\n",
            "4 is even\n",
            "5 is odd\n",
            "6 is even\n",
            "7 is odd\n",
            "8 is even\n",
            "9 is odd\n"
          ]
        }
      ]
    },
    {
      "cell_type": "code",
      "source": [
        "#while and if\n",
        "\n",
        "\n",
        "count=1\n",
        "while(count<=10):\n",
        "  print(count)\n",
        "\n",
        "  if (count==5):\n",
        "    break\n",
        "  else:\n",
        "    count+=1\n",
        "\n",
        ""
      ],
      "metadata": {
        "colab": {
          "base_uri": "https://localhost:8080/"
        },
        "id": "FZVCTAcw5p3S",
        "outputId": "bc689efe-3ec1-4ca7-b884-728c91a09e49"
      },
      "execution_count": 49,
      "outputs": [
        {
          "output_type": "stream",
          "name": "stdout",
          "text": [
            "1\n",
            "2\n",
            "3\n",
            "4\n",
            "5\n"
          ]
        }
      ]
    },
    {
      "cell_type": "code",
      "source": [
        "def add():\n",
        "  num1=10\n",
        "  num2=20\n",
        "  total=num1+num2\n",
        "  print(\"No argument no retun value just print\",total)\n",
        "\n",
        "add()\n",
        "\n",
        "\n",
        "def added(num3,num4):\n",
        "  added=num3+num4\n",
        "  print('Function with argument not retun value',added)\n",
        "\n",
        "added(100,200)\n",
        "\n",
        "def adds():\n",
        "  num7=300\n",
        "  num8=400\n",
        "  summed=num7+num8\n",
        "  return summed\n",
        "\n",
        "print('Function without argument and with return value',adds())\n",
        "\n",
        "\n",
        "def adding(num5,num6):\n",
        "  adding=num5+num6\n",
        "  return adding\n",
        "\n",
        "print('Function with both argument and retunvalue',adding(1000,2000))"
      ],
      "metadata": {
        "colab": {
          "base_uri": "https://localhost:8080/"
        },
        "id": "Xry_4zew5uuI",
        "outputId": "02ca801c-5d27-4f1e-9f3c-34d8d7150af5"
      },
      "execution_count": 64,
      "outputs": [
        {
          "output_type": "stream",
          "name": "stdout",
          "text": [
            "No argument no retun value just print 30\n",
            "Function with argument not retun value 300\n",
            "Function without argument and with return value 700\n",
            "Function with both argument and retunvalue 3000\n"
          ]
        }
      ]
    },
    {
      "cell_type": "code",
      "source": [
        "#Classes\n",
        "\n",
        "class student():\n",
        "  def __init__(self,age,department):\n",
        "    self.age=age\n",
        "    self.department=department\n",
        "    print(f'class started and age added {age} and dep {self.department}')\n",
        "  def details(self,name):\n",
        "    self.name=name\n",
        "    dep=self.department\n",
        "    print(f\"Student name is {name} and age {self.age} and dep is {dep}\")\n",
        "  def check(self):\n",
        "    print(f'checked function from details {self.name} and from init {self.department}')\n",
        "\n",
        "\n",
        "stud1=student(23,'cs')\n",
        "stud1.details('shalu')\n",
        "stud1.check()\n",
        "\n",
        "stud2=student(24,'bca')\n",
        "stud2.details('sha')"
      ],
      "metadata": {
        "colab": {
          "base_uri": "https://localhost:8080/"
        },
        "id": "8Z7SKZys7-6o",
        "outputId": "aeb0af1f-af5f-49cd-bccf-d0062c3468cc"
      },
      "execution_count": 89,
      "outputs": [
        {
          "output_type": "stream",
          "name": "stdout",
          "text": [
            "class started and age added 23 and dep cs\n",
            "Student name is shalu and age 23 and dep is cs\n",
            "checked function from details shalu and from init cs\n",
            "class started and age added 24 and dep bca\n",
            "Student name is sha and age 24 and dep is bca\n"
          ]
        }
      ]
    }
  ]
}