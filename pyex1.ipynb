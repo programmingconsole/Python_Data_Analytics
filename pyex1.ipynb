{
  "nbformat": 4,
  "nbformat_minor": 0,
  "metadata": {
    "colab": {
      "provenance": [],
      "name": "pyex1.ipynb",
      "authorship_tag": "ABX9TyPI6pVH1zKfLy0j+QD5s6b8",
      "include_colab_link": true
    },
    "kernelspec": {
      "name": "python3",
      "display_name": "Python 3"
    },
    "language_info": {
      "name": "python"
    }
  },
  "cells": [
    {
      "cell_type": "markdown",
      "metadata": {
        "id": "view-in-github",
        "colab_type": "text"
      },
      "source": [
        "<a href=\"https://colab.research.google.com/github/programmingconsole/Python_Data_Analytics/blob/main/pyex1.ipynb\" target=\"_parent\"><img src=\"https://colab.research.google.com/assets/colab-badge.svg\" alt=\"Open In Colab\"/></a>"
      ]
    },
    {
      "cell_type": "code",
      "execution_count": null,
      "metadata": {
        "colab": {
          "base_uri": "https://localhost:8080/"
        },
        "id": "c-dwxDUKs70W",
        "outputId": "ea555758-2206-4d6d-dc6a-38915000d311"
      },
      "outputs": [
        {
          "output_type": "stream",
          "name": "stdout",
          "text": [
            "{'Name': ['Alice', 'Bob', 'Charlie', 'David'], 'Age': [25, 30, 22, 35], 'City': ['New York', 'London', 'Paris', 'Tokyo'], 'edu': ['degree', 'degree', 'degree', 'degree']}\n",
            "      Name  Age      City     edu\n",
            "0    Alice   25  New York  degree\n",
            "1      Bob   30    London  degree\n",
            "2  Charlie   22     Paris  degree\n",
            "3    David   35     Tokyo  degree\n"
          ]
        }
      ],
      "source": [
        "import pandas as pd\n",
        "data = {'Name': ['Alice', 'Bob', 'Charlie', 'David'],\n",
        "        'Age': [25, 30, 22, 35],\n",
        "        'City': ['New York', 'London', 'Paris', 'Tokyo'],\n",
        "        'edu':['degree','degree','degree','degree']}\n",
        "df = pd.DataFrame(data)\n",
        "filtered_df = df[df['Age'] > 25]\n",
        "   #To see the output, run the code.\n",
        "print(data)\n",
        "print(df)"
      ]
    },
    {
      "cell_type": "code",
      "source": [
        "dic={'name':\"shalu\",'age':25,'department':\"CS\"}\n",
        "print(dic)\n",
        "print(dic['name'])"
      ],
      "metadata": {
        "id": "OrZdy-CFwq99",
        "colab": {
          "base_uri": "https://localhost:8080/"
        },
        "outputId": "5a0b6bc4-24c0-484a-b020-bdbc4f86a4ea"
      },
      "execution_count": null,
      "outputs": [
        {
          "output_type": "stream",
          "name": "stdout",
          "text": [
            "{'name': 'shalu', 'age': 25, 'department': 'CS'}\n",
            "shalu\n"
          ]
        }
      ]
    }
  ]
}